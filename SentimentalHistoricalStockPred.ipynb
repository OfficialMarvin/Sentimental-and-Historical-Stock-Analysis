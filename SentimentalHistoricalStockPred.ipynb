{
 "cells": [
  {
   "cell_type": "code",
   "execution_count": 0,
   "metadata": {
    "application/vnd.databricks.v1+cell": {
     "cellMetadata": {
      "byteLimit": 2048000,
      "rowLimit": 10000
     },
     "inputWidgets": {},
     "nuid": "4422687f-dbd5-4c12-9a59-0fd08575ad31",
     "showTitle": false,
     "title": ""
    }
   },
   "outputs": [
    {
     "output_type": "display_data",
     "data": {
      "text/plain": [
       "\u001B[0;31m---------------------------------------------------------------------------\u001B[0m\n",
       "\u001B[0;31mModuleNotFoundError\u001B[0m                       Traceback (most recent call last)\n",
       "File \u001B[0;32m<command-1452121680382276>, line 10\u001B[0m\n",
       "\u001B[1;32m      8\u001B[0m \u001B[38;5;28;01mimport\u001B[39;00m \u001B[38;5;21;01mmath\u001B[39;00m\n",
       "\u001B[1;32m      9\u001B[0m \u001B[38;5;28;01mimport\u001B[39;00m \u001B[38;5;21;01mtime\u001B[39;00m\n",
       "\u001B[0;32m---> 10\u001B[0m \u001B[38;5;28;01mimport\u001B[39;00m \u001B[38;5;21;01mtensorflow\u001B[39;00m \u001B[38;5;28;01mas\u001B[39;00m \u001B[38;5;21;01mtf\u001B[39;00m\n",
       "\n",
       "\u001B[0;31mModuleNotFoundError\u001B[0m: No module named 'tensorflow'"
      ]
     },
     "metadata": {
      "application/vnd.databricks.v1+output": {
       "arguments": {},
       "data": "\u001B[0;31m---------------------------------------------------------------------------\u001B[0m\n\u001B[0;31mModuleNotFoundError\u001B[0m                       Traceback (most recent call last)\nFile \u001B[0;32m<command-1452121680382276>, line 10\u001B[0m\n\u001B[1;32m      8\u001B[0m \u001B[38;5;28;01mimport\u001B[39;00m \u001B[38;5;21;01mmath\u001B[39;00m\n\u001B[1;32m      9\u001B[0m \u001B[38;5;28;01mimport\u001B[39;00m \u001B[38;5;21;01mtime\u001B[39;00m\n\u001B[0;32m---> 10\u001B[0m \u001B[38;5;28;01mimport\u001B[39;00m \u001B[38;5;21;01mtensorflow\u001B[39;00m \u001B[38;5;28;01mas\u001B[39;00m \u001B[38;5;21;01mtf\u001B[39;00m\n\n\u001B[0;31mModuleNotFoundError\u001B[0m: No module named 'tensorflow'",
       "errorSummary": "<span class='ansi-red-fg'>ModuleNotFoundError</span>: No module named 'tensorflow'",
       "errorTraceType": "ansi",
       "metadata": {},
       "type": "ipynbError"
      }
     },
     "output_type": "display_data"
    }
   ],
   "source": [
    "import os\n",
    "import numpy as np\n",
    "import csv\n",
    "import pandas as pd\n",
    "import matplotlib.pyplot as plt\n",
    "from matplotlib.dates import DateFormatter\n",
    "from pyspark.sql.functions import lit\n",
    "import math\n",
    "import time\n",
    "import tensorflow as tf"
   ]
  },
  {
   "cell_type": "code",
   "execution_count": 0,
   "metadata": {
    "application/vnd.databricks.v1+cell": {
     "cellMetadata": {
      "byteLimit": 2048000,
      "rowLimit": 10000
     },
     "inputWidgets": {},
     "nuid": "69811462-5d0f-42f7-931a-48acc5ff78b7",
     "showTitle": false,
     "title": ""
    }
   },
   "outputs": [],
   "source": [
    "!pip install tensorflow\n",
    "!pip install vaderSentiment"
   ]
  },
  {
   "cell_type": "code",
   "execution_count": 0,
   "metadata": {
    "application/vnd.databricks.v1+cell": {
     "cellMetadata": {
      "byteLimit": 2048000,
      "rowLimit": 10000
     },
     "inputWidgets": {},
     "nuid": "e38e42d4-6267-4b2e-9695-e282c16f0e16",
     "showTitle": false,
     "title": ""
    }
   },
   "outputs": [
    {
     "output_type": "stream",
     "name": "stdout",
     "output_type": "stream",
     "text": [
      "Number of rows in the DataFrame: 271680\n"
     ]
    }
   ],
   "source": [
    "tweets_df = spark.table(\"combined_tweets\")\n",
    "price_df = spark.table(\"nasdaq_100_data_from_2010\")\n",
    "num_rows = price_df.count()\n",
    "print(\"Number of rows in the DataFrame:\", num_rows)"
   ]
  },
  {
   "cell_type": "code",
   "execution_count": 0,
   "metadata": {
    "application/vnd.databricks.v1+cell": {
     "cellMetadata": {
      "byteLimit": 2048000,
      "rowLimit": 10000
     },
     "inputWidgets": {},
     "nuid": "3b9dd3bf-7bfc-4d8a-a608-de4e5631dcfd",
     "showTitle": false,
     "title": ""
    }
   },
   "outputs": [],
   "source": [
    "from pyspark.sql.functions import when, col\n",
    "# Replace \"GOOG\" with \"GOOGL\" in the ticker_symbol column\n",
    "tweets_df = tweets_df.withColumn(\"ticker_symbol\", \n",
    "                                       when(col(\"ticker_symbol\") == \"GOOG\", \"GOOGL\")\n",
    "                                       .otherwise(col(\"ticker_symbol\")))"
   ]
  },
  {
   "cell_type": "code",
   "execution_count": 0,
   "metadata": {
    "application/vnd.databricks.v1+cell": {
     "cellMetadata": {
      "byteLimit": 2048000,
      "rowLimit": 10000
     },
     "inputWidgets": {},
     "nuid": "e965da02-6254-420c-85c5-ae2ab1631581",
     "showTitle": false,
     "title": ""
    }
   },
   "outputs": [],
   "source": [
    "from pyspark.sql.functions import col\n",
    "\n",
    "# Assuming the name of your DataFrame is tweet_df and the relevant column is named 'ticker_symbol'\n",
    "googl_tweets_df = tweets_df.filter(col(\"ticker_symbol\") == \"GOOGL\")\n",
    "googl_price_df = price_df.filter(col(\"Name\") == \"GOOGL\")"
   ]
  },
  {
   "cell_type": "code",
   "execution_count": 0,
   "metadata": {
    "application/vnd.databricks.v1+cell": {
     "cellMetadata": {
      "byteLimit": 2048000,
      "rowLimit": 10000
     },
     "inputWidgets": {},
     "nuid": "d0661e19-fd64-49f3-b757-a68069e2d80b",
     "showTitle": false,
     "title": ""
    }
   },
   "outputs": [],
   "source": [
    "from vaderSentiment.vaderSentiment import SentimentIntensityAnalyzer\n",
    "import unicodedata\n",
    "\n",
    "def sentiment_analysis(text):\n",
    "    if text is not None:\n",
    "        sentence = unicodedata.normalize('NFKD', text)\n",
    "        sentiment_analyzer = SentimentIntensityAnalyzer()\n",
    "        sentiment = sentiment_analyzer.polarity_scores(sentence)\n",
    "        return sentiment['compound'], sentiment['neg'], sentiment['neu'], sentiment['pos']\n",
    "    else:\n",
    "        return None, None, None, None"
   ]
  },
  {
   "cell_type": "code",
   "execution_count": 0,
   "metadata": {
    "application/vnd.databricks.v1+cell": {
     "cellMetadata": {
      "byteLimit": 2048000,
      "rowLimit": 10000
     },
     "inputWidgets": {},
     "nuid": "c1cd6018-f4c3-4eb3-90fe-699ec6a5031d",
     "showTitle": false,
     "title": ""
    }
   },
   "outputs": [],
   "source": [
    "from pyspark.sql.functions import udf\n",
    "from pyspark.sql.types import FloatType, StructType, StructField\n",
    "\n",
    "# Define the schema of the return type\n",
    "schema = StructType([\n",
    "    StructField(\"sentiment_score\", FloatType(), False),\n",
    "    StructField(\"Negative\", FloatType(), False),\n",
    "    StructField(\"Neutral\", FloatType(), False),\n",
    "    StructField(\"Positive\", FloatType(), False)\n",
    "])\n",
    "\n",
    "# Register the UDF\n",
    "sentiment_udf = udf(sentiment_analysis, schema)\n"
   ]
  },
  {
   "cell_type": "code",
   "execution_count": 0,
   "metadata": {
    "application/vnd.databricks.v1+cell": {
     "cellMetadata": {
      "byteLimit": 2048000,
      "rowLimit": 10000
     },
     "inputWidgets": {},
     "nuid": "ceadc78c-258a-47cc-9b58-4ac4e0ab5f45",
     "showTitle": false,
     "title": ""
    }
   },
   "outputs": [],
   "source": [
    "from pyspark.sql.functions import col\n",
    "\n",
    "# Apply the UDF to the DataFrame\n",
    "sentiment_df = googl_tweets_df.withColumn(\"sentiment\", sentiment_udf(col(\"body\")))\n",
    "\n",
    "# Extract the sentiment fields into separate columns\n",
    "sentiment_df = sentiment_df.select(\"*\", \n",
    "                                   col(\"sentiment\").getField(\"sentiment_score\").alias(\"sentiment_score\"),\n",
    "                                   col(\"sentiment\").getField(\"Negative\").alias(\"Negative\"),\n",
    "                                   col(\"sentiment\").getField(\"Neutral\").alias(\"Neutral\"),\n",
    "                                   col(\"sentiment\").getField(\"Positive\").alias(\"Positive\"))\n",
    "\n",
    "# Drop the intermediate struct column\n",
    "sentiment_df = sentiment_df.drop(\"sentiment\")\n"
   ]
  },
  {
   "cell_type": "code",
   "execution_count": 0,
   "metadata": {
    "application/vnd.databricks.v1+cell": {
     "cellMetadata": {
      "byteLimit": 2048000,
      "rowLimit": 10000
     },
     "inputWidgets": {},
     "nuid": "9d9aa633-d62b-4345-8809-63c2c6775868",
     "showTitle": false,
     "title": ""
    }
   },
   "outputs": [
    {
     "output_type": "stream",
     "name": "stdout",
     "output_type": "stream",
     "text": [
      "+-------------------+----------+--------------------+-------------+-------------------+-----------+---------------+--------+-------+--------+\n|           tweet_id| post_date|                body|ticker_symbol|    datetime_column|date_column|sentiment_score|Negative|Neutral|Positive|\n+-------------------+----------+--------------------+-------------+-------------------+-----------+---------------+--------+-------+--------+\n|1007582659105771520|1529061400|#Allergan 's Casf...|        GOOGL|2018-06-15 11:16:40| 2018-06-15|        -0.5837|   0.089|  0.911|     0.0|\n|1007669321185812480|1529082062|Today's million d...|        GOOGL|2018-06-15 17:01:02| 2018-06-15|            0.0|     0.0|    1.0|     0.0|\n|1007687510548287488|1529086399|CRN Exclusive: Go...|        GOOGL|2018-06-15 18:13:19| 2018-06-15|          0.128|     0.0|  0.889|   0.111|\n|1007792550172692480|1529111442|#Coversin will ma...|        GOOGL|2018-06-16 01:10:42| 2018-06-16|         0.3182|     0.0|  0.956|   0.044|\n|1008095641451618304|1529183705|NOW OFFERING 7 Da...|        GOOGL|2018-06-16 21:15:05| 2018-06-16|         0.6166|     0.0|  0.832|   0.168|\n|1008107408613347328|1529186510|I see $GOOGL has ...|        GOOGL|2018-06-16 22:01:50| 2018-06-16|            0.0|     0.0|    1.0|     0.0|\n|1008363916425089024|1529247666|Don't miss our ne...|        GOOGL|2018-06-17 15:01:06| 2018-06-17|         0.8306|     0.0|  0.695|   0.305|\n|1008367542644236288|1529248531|Imagine investing...|        GOOGL|2018-06-17 15:15:31| 2018-06-17|            0.0|     0.0|    1.0|     0.0|\n|1008384506133467136|1529252575|$BIDU basically t...|        GOOGL|2018-06-17 16:22:55| 2018-06-17|         0.5994|     0.0|  0.824|   0.176|\n|1008456960994349056|1529269850|Market Briefing F...|        GOOGL|2018-06-17 21:10:50| 2018-06-17|            0.0|     0.0|    1.0|     0.0|\n|1008590849490505728|1529301771|Time Warner Is Ju...|        GOOGL|2018-06-18 06:02:51| 2018-06-18|            0.0|     0.0|    1.0|     0.0|\n|1008697250766344193|1529327139|Stock Forecasting...|        GOOGL|2018-06-18 13:05:39| 2018-06-18|         0.0516|   0.049|  0.895|   0.056|\n|1008704831119396864|1529328947|$GOOGL with a $55...|        GOOGL|2018-06-18 13:35:47| 2018-06-18|            0.0|     0.0|    1.0|     0.0|\n|1008710437528113154|1529330283|JUST IN: http://J...|        GOOGL|2018-06-18 13:58:03| 2018-06-18|          0.296|     0.0|  0.891|   0.109|\n|1008726835390238720|1529334193|$GOOGL simply lis...|        GOOGL|2018-06-18 15:03:13| 2018-06-18|            0.0|     0.0|    1.0|     0.0|\n|1008729832849633280|1529334908|NOW OFFERING 7 Da...|        GOOGL|2018-06-18 15:15:08| 2018-06-18|         0.6166|     0.0|  0.832|   0.168|\n|1008759690740707328|1529342026|YouTube Music lau...|        GOOGL|2018-06-18 17:13:46| 2018-06-18|            0.0|     0.0|    1.0|     0.0|\n|1008774479147778048|1529345552|              $GOOGL|        GOOGL|2018-06-18 18:12:32| 2018-06-18|            0.0|     0.0|    1.0|     0.0|\n|1008820421532311552|1529356506|NOW OFFERING 7 Da...|        GOOGL|2018-06-18 21:15:06| 2018-06-18|         0.6166|     0.0|  0.832|   0.168|\n|1009065562008440832|1529414952|Which stocks will...|        GOOGL|2018-06-19 13:29:12| 2018-06-19|        -0.4939|   0.314|  0.524|   0.162|\n+-------------------+----------+--------------------+-------------+-------------------+-----------+---------------+--------+-------+--------+\nonly showing top 20 rows\n\n"
     ]
    }
   ],
   "source": [
    "sentiment_df.show()\n"
   ]
  },
  {
   "cell_type": "code",
   "execution_count": 0,
   "metadata": {
    "application/vnd.databricks.v1+cell": {
     "cellMetadata": {
      "byteLimit": 2048000,
      "rowLimit": 10000
     },
     "inputWidgets": {},
     "nuid": "48254bdc-d9d6-4c8e-ab96-0d6991c36587",
     "showTitle": false,
     "title": ""
    }
   },
   "outputs": [],
   "source": [
    "sentiment_df2 = sentiment_df.drop('tweet_id','post_date','body','datetime_column','Negative','Neutral','Positive')\n",
    "#sentiment_df2.show()"
   ]
  },
  {
   "cell_type": "code",
   "execution_count": 0,
   "metadata": {
    "application/vnd.databricks.v1+cell": {
     "cellMetadata": {
      "byteLimit": 2048000,
      "rowLimit": 10000
     },
     "inputWidgets": {},
     "nuid": "30587ea0-766f-4a42-9f2b-668b3d5f678b",
     "showTitle": false,
     "title": ""
    }
   },
   "outputs": [],
   "source": [
    "from pyspark.sql.functions import to_date, avg\n",
    "\n",
    "# Group by ticker_symbol and date, then calculate the average sentiment_score\n",
    "avg_sentiment_df = sentiment_df2.groupBy(\"date_column\") \\\n",
    "                                .agg(avg(\"sentiment_score\").alias(\"average_sentiment\"))\n"
   ]
  },
  {
   "cell_type": "code",
   "execution_count": 0,
   "metadata": {
    "application/vnd.databricks.v1+cell": {
     "cellMetadata": {
      "byteLimit": 2048000,
      "rowLimit": 10000
     },
     "inputWidgets": {},
     "nuid": "2f46b1de-4ae6-4d58-9c56-a8cc479aa8e6",
     "showTitle": false,
     "title": ""
    }
   },
   "outputs": [
    {
     "output_type": "stream",
     "name": "stdout",
     "output_type": "stream",
     "text": [
      "+----------+------------------+------------------+------------------+------------------+------------------+--------+-----+\n|      Date|              Open|              High|               Low|             Close|         Adj Close|  Volume| Name|\n+----------+------------------+------------------+------------------+------------------+------------------+--------+-----+\n|2010-01-04| 313.7887878417969|  315.070068359375|312.43243408203125| 313.6886901855469| 313.6886901855469| 3908488|GOOGL|\n|2010-01-05| 313.9039001464844| 314.2342224121094| 311.0810852050781|312.30731201171875|312.30731201171875| 6003391|GOOGL|\n|2010-01-06| 313.2432556152344| 313.2432556152344| 303.4834899902344| 304.4344482421875| 304.4344482421875| 7949443|GOOGL|\n|2010-01-07| 305.0050048828125| 305.3052978515625| 296.6216125488281|297.34735107421875|297.34735107421875|12815771|GOOGL|\n|2010-01-08| 296.2962951660156|301.92694091796875|  294.849853515625| 301.3113098144531| 301.3113098144531| 9439151|GOOGL|\n|2010-01-11|302.53253173828125|302.53253173828125|297.31732177734375| 300.8558654785156| 300.8558654785156|14411374|GOOGL|\n|2010-01-12| 299.1241149902344| 299.3793640136719| 294.2942810058594| 295.5355224609375| 295.5355224609375| 9696893|GOOGL|\n|2010-01-13| 288.5335388183594| 294.4844970703125|287.23724365234375| 293.8388366699219| 293.8388366699219|12980207|GOOGL|\n|2010-01-14|292.24224853515625|297.39739990234375| 291.6966857910156|   295.22021484375|   295.22021484375| 8471720|GOOGL|\n|2010-01-15|296.96697998046875|297.07708740234375| 289.3092956542969|  290.290283203125|  290.290283203125|10858131|GOOGL|\n|2010-01-19| 290.8908996582031| 295.5054931640625| 288.4334411621094| 294.1040954589844| 294.1040954589844| 8624767|GOOGL|\n|2010-01-20| 293.2832946777344| 293.2832946777344|287.93292236328125| 290.4954833984375| 290.4954833984375| 6494899|GOOGL|\n|2010-01-21|292.01202392578125| 293.7037048339844| 286.4114074707031| 291.7817687988281| 291.7817687988281|12602785|GOOGL|\n|2010-01-22|282.53253173828125| 285.5855712890625|267.69769287109375|    275.2802734375|    275.2802734375|13587199|GOOGL|\n|2010-01-25| 273.5685729980469| 275.2152099609375|268.02301025390625|  270.270263671875|  270.270263671875| 8830960|GOOGL|\n|2010-01-26| 269.2542419433594| 275.0750732421875| 268.4134216308594| 271.4814758300781| 271.4814758300781| 8702289|GOOGL|\n|2010-01-27| 270.9059143066406| 274.0990905761719|267.92291259765625| 271.3213195800781| 271.3213195800781| 7920871|GOOGL|\n|2010-01-28|272.51751708984375| 273.7737731933594| 265.5655517578125|267.41241455078125|267.41241455078125| 6451742|GOOGL|\n|2010-01-29| 269.5145263671875| 270.7657775878906|263.06805419921875| 265.2352294921875| 265.2352294921875| 8272719|GOOGL|\n|2010-02-01|267.56756591796875| 268.1731872558594| 265.4154052734375| 266.7767639160156| 266.7767639160156| 4497098|GOOGL|\n+----------+------------------+------------------+------------------+------------------+------------------+--------+-----+\nonly showing top 20 rows\n\nNumber of rows in the DataFrame: 2943\n"
     ]
    }
   ],
   "source": [
    "googl_price_df.show()\n",
    "num_rows = googl_price_df.count()\n",
    "print(\"Number of rows in the DataFrame:\", num_rows)"
   ]
  },
  {
   "cell_type": "code",
   "execution_count": 0,
   "metadata": {
    "application/vnd.databricks.v1+cell": {
     "cellMetadata": {
      "byteLimit": 2048000,
      "rowLimit": 10000
     },
     "inputWidgets": {},
     "nuid": "5a5a221f-4f58-4571-8f7f-66da8d32faf9",
     "showTitle": false,
     "title": ""
    }
   },
   "outputs": [],
   "source": [
    "from pyspark.sql.functions import col\n",
    "\n",
    "# Join the DataFrames on both ticker_symbol and date\n",
    "merged_df = googl_price_df.join(\n",
    "    avg_sentiment_df,\n",
    "    (googl_price_df.Date == avg_sentiment_df.date_column),\n",
    "    \"inner\"\n",
    ")"
   ]
  },
  {
   "cell_type": "code",
   "execution_count": 0,
   "metadata": {
    "application/vnd.databricks.v1+cell": {
     "cellMetadata": {
      "byteLimit": 2048000,
      "rowLimit": 10000
     },
     "inputWidgets": {},
     "nuid": "9b467a36-9d62-4c65-92f1-8d7e1ae00707",
     "showTitle": false,
     "title": ""
    }
   },
   "outputs": [
    {
     "output_type": "stream",
     "name": "stdout",
     "output_type": "stream",
     "text": [
      "Number of rows in the DataFrame: 1258\n"
     ]
    },
    {
     "output_type": "execute_result",
     "data": {
      "text/plain": [
       "Row(Date=datetime.date(2018, 8, 10), Open=1259.1800537109375, High=1261.199951171875, Low=1247.1600341796875, Close=1252.510009765625, Adj Close=1252.510009765625, Volume=1330100, Name='GOOGL', date_column=datetime.date(2018, 8, 10), average_sentiment=0.14421530375489136)"
      ]
     },
     "execution_count": 75,
     "metadata": {},
     "output_type": "execute_result"
    }
   ],
   "source": [
    "num_rows = merged_df.count()\n",
    "print(\"Number of rows in the DataFrame:\", num_rows)\n",
    "merged_df.first()\n"
   ]
  },
  {
   "cell_type": "code",
   "execution_count": 0,
   "metadata": {
    "application/vnd.databricks.v1+cell": {
     "cellMetadata": {
      "byteLimit": 2048000,
      "rowLimit": 10000
     },
     "inputWidgets": {},
     "nuid": "e4399a5e-0071-4084-b994-fb1e57f2f6f0",
     "showTitle": false,
     "title": ""
    }
   },
   "outputs": [
    {
     "output_type": "stream",
     "name": "stdout",
     "output_type": "stream",
     "text": [
      "+----------+------------------+------------------+------------------+------------------+------------------+-------+-----+-----------+--------------------+\n|      Date|              Open|              High|               Low|             Close|         Adj Close| Volume| Name|date_column|   average_sentiment|\n+----------+------------------+------------------+------------------+------------------+------------------+-------+-----+-----------+--------------------+\n|2018-08-10|1259.1800537109375| 1261.199951171875|1247.1600341796875| 1252.510009765625| 1252.510009765625|1330100|GOOGL| 2018-08-10| 0.14421530375489136|\n|2019-05-08|   1177.2900390625|  1184.27001953125|1167.6300048828125| 1170.780029296875| 1170.780029296875|1276000|GOOGL| 2019-05-08| 0.18862287500255967|\n|2016-03-01| 721.2999877929688| 742.3300170898438| 718.6400146484375| 742.1699829101562| 742.1699829101562|3005600|GOOGL| 2016-03-01|0.009091039144992829|\n|2019-06-04| 1044.489990234375|  1058.43994140625| 1036.030029296875| 1054.489990234375| 1054.489990234375|3025600|GOOGL| 2019-06-04| 0.16858812500722706|\n|2017-08-11| 923.7100219726562| 933.3599853515625|  921.219970703125| 930.0900268554688| 930.0900268554688|1616700|GOOGL| 2017-08-11|  0.1046940341396235|\n|2017-09-11| 947.2000122070312| 952.6799926757812|             941.0| 943.2899780273438| 943.2899780273438|1337400|GOOGL| 2017-09-11| 0.10350208298526316|\n|2015-03-09| 570.9199829101562| 575.4500122070312| 569.0499877929688| 574.0999755859375| 574.0999755859375|1173900|GOOGL| 2015-03-09| 0.14311361673799006|\n|2015-05-19|             548.0| 553.4000244140625| 547.1199951171875|  549.280029296875|  549.280029296875|2356300|GOOGL| 2015-05-19| 0.06686327353206262|\n|2018-06-06|  1152.77001953125|   1154.7099609375|1136.3199462890625| 1146.949951171875| 1146.949951171875|1746700|GOOGL| 2018-06-06| 0.08970455862694961|\n|2016-04-25| 735.3499755859375| 744.8800048828125| 735.0999755859375| 742.2100219726562| 742.2100219726562|2472100|GOOGL| 2016-04-25|  0.1130052611141311|\n|2019-11-01| 1265.800048828125|            1273.0|   1259.7099609375|           1272.25|           1272.25|1440600|GOOGL| 2019-11-01| 0.35176388858300117|\n|2019-11-18|1332.3399658203125|1333.9200439453125|1316.1600341796875|1319.8399658203125|1319.8399658203125|1399200|GOOGL| 2019-11-18| 0.16862847918831414|\n|2017-01-06|  814.989990234375| 828.9600219726562|             811.5| 825.2100219726562| 825.2100219726562|2017100|GOOGL| 2017-01-06| 0.11597799560995607|\n|2015-03-06|             582.0|  582.780029296875| 572.0599975585938| 572.9000244140625| 572.9000244140625|1879600|GOOGL| 2015-03-06| 0.11278019027397689|\n|2018-06-26|1144.1400146484375|1146.8699951171875|            1129.0|1132.6199951171875|1132.6199951171875|1734400|GOOGL| 2018-06-26| 0.19523720974195438|\n|2018-08-08| 1256.719970703125| 1271.719970703125|1252.1199951171875|1261.3299560546875|1261.3299560546875|1717200|GOOGL| 2018-08-08| 0.18284289990171926|\n|2018-10-05|            1176.0|            1182.0|1154.3199462890625|1167.8299560546875|1167.8299560546875|1592600|GOOGL| 2018-10-05| 0.16693660300576463|\n|2018-11-02|            1089.0|            1098.0|1067.6600341796875| 1071.489990234375| 1071.489990234375|2171900|GOOGL| 2018-11-02|   0.191833333225635|\n|2016-07-26|   757.52001953125|  759.260009765625|            752.75| 757.6500244140625| 757.6500244140625|1189600|GOOGL| 2016-07-26| 0.07238068774584716|\n|2016-08-15| 807.2100219726562| 811.3599853515625|  804.030029296875| 805.9600219726562| 805.9600219726562| 929800|GOOGL| 2016-08-15| 0.07813718318939208|\n+----------+------------------+------------------+------------------+------------------+------------------+-------+-----+-----------+--------------------+\nonly showing top 20 rows\n\n"
     ]
    }
   ],
   "source": [
    "merged_df.show()"
   ]
  },
  {
   "cell_type": "code",
   "execution_count": 0,
   "metadata": {
    "application/vnd.databricks.v1+cell": {
     "cellMetadata": {
      "byteLimit": 2048000,
      "rowLimit": 10000
     },
     "inputWidgets": {},
     "nuid": "ce2e0d23-6885-4bcd-8d94-b0abe456ef3e",
     "showTitle": false,
     "title": ""
    }
   },
   "outputs": [
    {
     "output_type": "stream",
     "name": "stdout",
     "output_type": "stream",
     "text": [
      "Number of rows in the DataFrame: 1258\n"
     ]
    }
   ],
   "source": [
    "num_rows = merged_df.count()\n",
    "print(\"Number of rows in the DataFrame:\", num_rows)"
   ]
  },
  {
   "cell_type": "code",
   "execution_count": 0,
   "metadata": {
    "application/vnd.databricks.v1+cell": {
     "cellMetadata": {
      "byteLimit": 2048000,
      "rowLimit": 10000
     },
     "inputWidgets": {},
     "nuid": "e6e6b40d-0c0a-4c67-8987-499eaa31a8af",
     "showTitle": false,
     "title": ""
    }
   },
   "outputs": [],
   "source": [
    "merged_df=merged_df.drop('date_column','Volume')"
   ]
  },
  {
   "cell_type": "code",
   "execution_count": 0,
   "metadata": {
    "application/vnd.databricks.v1+cell": {
     "cellMetadata": {
      "byteLimit": 2048000,
      "rowLimit": 10000
     },
     "inputWidgets": {},
     "nuid": "5cc8da2c-fbc9-4297-b502-9d468c0eae6d",
     "showTitle": false,
     "title": ""
    }
   },
   "outputs": [
    {
     "output_type": "stream",
     "name": "stdout",
     "output_type": "stream",
     "text": [
      "+----------+------------------+------------------+------------------+------------------+------------------+-----+--------------------+\n|      Date|              Open|              High|               Low|             Close|         Adj Close| Name|   average_sentiment|\n+----------+------------------+------------------+------------------+------------------+------------------+-----+--------------------+\n|2018-08-10|1259.1800537109375| 1261.199951171875|1247.1600341796875| 1252.510009765625| 1252.510009765625|GOOGL| 0.14421530375489136|\n|2019-05-08|   1177.2900390625|  1184.27001953125|1167.6300048828125| 1170.780029296875| 1170.780029296875|GOOGL| 0.18862287500255967|\n|2016-03-01| 721.2999877929688| 742.3300170898438| 718.6400146484375| 742.1699829101562| 742.1699829101562|GOOGL|0.009091039144992829|\n|2019-06-04| 1044.489990234375|  1058.43994140625| 1036.030029296875| 1054.489990234375| 1054.489990234375|GOOGL| 0.16858812500722706|\n|2017-08-11| 923.7100219726562| 933.3599853515625|  921.219970703125| 930.0900268554688| 930.0900268554688|GOOGL|  0.1046940341396235|\n|2017-09-11| 947.2000122070312| 952.6799926757812|             941.0| 943.2899780273438| 943.2899780273438|GOOGL| 0.10350208298526316|\n|2015-03-09| 570.9199829101562| 575.4500122070312| 569.0499877929688| 574.0999755859375| 574.0999755859375|GOOGL| 0.14311361673799006|\n|2015-05-19|             548.0| 553.4000244140625| 547.1199951171875|  549.280029296875|  549.280029296875|GOOGL| 0.06686327353206262|\n|2018-06-06|  1152.77001953125|   1154.7099609375|1136.3199462890625| 1146.949951171875| 1146.949951171875|GOOGL| 0.08970455862694961|\n|2016-04-25| 735.3499755859375| 744.8800048828125| 735.0999755859375| 742.2100219726562| 742.2100219726562|GOOGL|  0.1130052611141311|\n|2019-11-01| 1265.800048828125|            1273.0|   1259.7099609375|           1272.25|           1272.25|GOOGL| 0.35176388858300117|\n|2019-11-18|1332.3399658203125|1333.9200439453125|1316.1600341796875|1319.8399658203125|1319.8399658203125|GOOGL| 0.16862847918831414|\n|2017-01-06|  814.989990234375| 828.9600219726562|             811.5| 825.2100219726562| 825.2100219726562|GOOGL| 0.11597799560995607|\n|2015-03-06|             582.0|  582.780029296875| 572.0599975585938| 572.9000244140625| 572.9000244140625|GOOGL| 0.11278019027397689|\n|2018-06-26|1144.1400146484375|1146.8699951171875|            1129.0|1132.6199951171875|1132.6199951171875|GOOGL| 0.19523720974195438|\n|2018-08-08| 1256.719970703125| 1271.719970703125|1252.1199951171875|1261.3299560546875|1261.3299560546875|GOOGL| 0.18284289990171926|\n|2018-10-05|            1176.0|            1182.0|1154.3199462890625|1167.8299560546875|1167.8299560546875|GOOGL| 0.16693660300576463|\n|2018-11-02|            1089.0|            1098.0|1067.6600341796875| 1071.489990234375| 1071.489990234375|GOOGL|   0.191833333225635|\n|2016-07-26|   757.52001953125|  759.260009765625|            752.75| 757.6500244140625| 757.6500244140625|GOOGL| 0.07238068774584716|\n|2016-08-15| 807.2100219726562| 811.3599853515625|  804.030029296875| 805.9600219726562| 805.9600219726562|GOOGL| 0.07813718318939208|\n+----------+------------------+------------------+------------------+------------------+------------------+-----+--------------------+\nonly showing top 20 rows\n\n"
     ]
    }
   ],
   "source": [
    "merged_df.show()"
   ]
  },
  {
   "cell_type": "code",
   "execution_count": 0,
   "metadata": {
    "application/vnd.databricks.v1+cell": {
     "cellMetadata": {
      "byteLimit": 2048000,
      "rowLimit": 10000
     },
     "inputWidgets": {},
     "nuid": "1141e5ac-c679-475b-956c-83e2d5f3d60a",
     "showTitle": false,
     "title": ""
    }
   },
   "outputs": [],
   "source": [
    "merged_df=merged_df.drop('Name')"
   ]
  },
  {
   "cell_type": "code",
   "execution_count": 0,
   "metadata": {
    "application/vnd.databricks.v1+cell": {
     "cellMetadata": {
      "byteLimit": 2048000,
      "rowLimit": 10000
     },
     "inputWidgets": {},
     "nuid": "413375e2-de51-40f0-bda5-3d25a0b81462",
     "showTitle": false,
     "title": ""
    }
   },
   "outputs": [],
   "source": [
    "from pyspark.sql.functions import asc\n",
    "sorted_df = merged_df.orderBy(asc(\"Date\"))\n"
   ]
  },
  {
   "cell_type": "code",
   "execution_count": 0,
   "metadata": {
    "application/vnd.databricks.v1+cell": {
     "cellMetadata": {
      "byteLimit": 2048000,
      "rowLimit": 10000
     },
     "inputWidgets": {},
     "nuid": "5d5fe410-ba1a-4007-a986-1a819751ddce",
     "showTitle": false,
     "title": ""
    }
   },
   "outputs": [
    {
     "output_type": "stream",
     "name": "stdout",
     "output_type": "stream",
     "text": [
      "+----------+------------------+-----------------+------------------+------------------+------------------+-------------------+\n|      Date|              Open|             High|               Low|             Close|         Adj Close|  average_sentiment|\n+----------+------------------+-----------------+------------------+------------------+------------------+-------------------+\n|2015-01-02| 532.5999755859375|535.7999877929688| 527.8800048828125| 529.5499877929688| 529.5499877929688| 0.1551390659296885|\n|2015-01-05| 527.1500244140625| 527.989990234375|            517.75| 519.4600219726562| 519.4600219726562| 0.3075649142968205|\n|2015-01-06|             520.5|521.2100219726562|505.54998779296875| 506.6400146484375| 506.6400146484375|0.30266869737769586|\n|2015-01-07|510.95001220703125| 511.489990234375| 503.6499938964844| 505.1499938964844| 505.1499938964844|  0.261703954587489|\n|2015-01-08|  501.510009765625|            507.5| 495.0199890136719| 506.9100036621094| 506.9100036621094|0.21218591082021307|\n|2015-01-09|508.17999267578125|508.6000061035156| 498.6499938964844| 500.7200012207031| 500.7200012207031|0.17483605484978681|\n|2015-01-12|  499.239990234375|500.2799987792969| 490.9100036621094|497.05999755859375|497.05999755859375|0.12586931628477457|\n|2015-01-13|502.57000732421875|508.6000061035156|  497.260009765625|501.79998779296875|501.79998779296875|0.13683385589695352|\n|2015-01-14| 500.4200134277344| 508.260009765625| 498.1600036621094|505.92999267578125|505.92999267578125|0.07357950089677769|\n|2015-01-15| 508.8900146484375|           509.75|  502.010009765625|  504.010009765625|  504.010009765625|0.09200988221021254|\n|2015-01-16| 503.1499938964844|510.8500061035156| 503.0899963378906| 510.4599914550781| 510.4599914550781|0.07909514402012223|\n|2015-01-20|   512.77001953125|515.6099853515625| 509.3699951171875|509.94000244140625|509.94000244140625|0.14688025202145025|\n|2015-01-21| 510.8399963378906|521.8499755859375| 509.5899963378906| 520.3900146484375| 520.3900146484375|0.17873290798290734|\n|2015-01-22|             523.0|538.8400268554688| 521.9099731445312| 537.2999877929688| 537.2999877929688| 0.1391466207150473|\n|2015-01-23|  538.030029296875|545.4099731445312|            535.75| 541.9500122070312| 541.9500122070312| 0.1627558532548196|\n|2015-01-26|             541.5|            541.5| 532.0700073242188|  536.719970703125|  536.719970703125| 0.1938731141024233|\n|2015-01-27| 531.4000244140625| 532.780029296875| 520.8599853515625| 521.1900024414062| 521.1900024414062|0.16477489687612987|\n|2015-01-28|             525.0|525.6900024414062| 512.3499755859375| 512.4299926757812| 512.4299926757812|0.19208825489659923|\n|2015-01-29| 512.9000244140625|515.1900024414062| 503.4800109863281|   513.22998046875|   513.22998046875|0.12192366417621035|\n|2015-01-30|             519.0|543.0999755859375| 518.1799926757812| 537.5499877929688| 537.5499877929688|0.14575857252801314|\n+----------+------------------+-----------------+------------------+------------------+------------------+-------------------+\nonly showing top 20 rows\n\n"
     ]
    }
   ],
   "source": [
    "sorted_df.show()"
   ]
  },
  {
   "cell_type": "code",
   "execution_count": 0,
   "metadata": {
    "application/vnd.databricks.v1+cell": {
     "cellMetadata": {
      "byteLimit": 2048000,
      "rowLimit": 10000
     },
     "inputWidgets": {},
     "nuid": "9f2262b0-a67a-47b2-be03-c13b6da5ffab",
     "showTitle": false,
     "title": ""
    }
   },
   "outputs": [],
   "source": [
    "display(sorted_df)"
   ]
  },
  {
   "cell_type": "code",
   "execution_count": 0,
   "metadata": {
    "application/vnd.databricks.v1+cell": {
     "cellMetadata": {
      "byteLimit": 2048000,
      "rowLimit": 10000
     },
     "inputWidgets": {},
     "nuid": "a1439d38-ec9e-4ea3-bb5b-f41eb1ffdc5c",
     "showTitle": false,
     "title": ""
    }
   },
   "outputs": [
    {
     "output_type": "stream",
     "name": "stdout",
     "output_type": "stream",
     "text": [
      "Prediction Accuracy: 0.51\n"
     ]
    }
   ],
   "source": [
    "from pyspark.sql.functions import udf, col, when\n",
    "from pyspark.sql.types import IntegerType\n",
    "\n",
    "# UDF to determine sentiment direction\n",
    "sentiment_direction_udf = udf(lambda x: 1 if x > 0 else -1, IntegerType())\n",
    "\n",
    "# Adding sentiment direction to DataFrame\n",
    "sorted_df = sorted_df.withColumn('SentimentDirection', sentiment_direction_udf(col('average_sentiment')))\n",
    "\n",
    "# Calculating stock movement and normalizing it\n",
    "sorted_df = sorted_df.withColumn('StockMovement', (col('Close') - col('Open')) / col('Open'))\n",
    "sorted_df = sorted_df.withColumn('NormalizedStockMovement', when(col('StockMovement') > 1, 1).otherwise(when(col('StockMovement') < -1, -1).otherwise(col('StockMovement'))))\n",
    "\n",
    "# UDF to determine stock direction\n",
    "stock_direction_udf = udf(lambda x: 1 if x > 0 else -1, IntegerType())\n",
    "\n",
    "# Adding stock direction to DataFrame\n",
    "sorted_df = sorted_df.withColumn('StockDirection', stock_direction_udf(col('NormalizedStockMovement')))\n",
    "\n",
    "# Comparing sentiment and stock direction\n",
    "sorted_df = sorted_df.withColumn('PredictionResult', when(col('SentimentDirection') == col('StockDirection'), 1).otherwise(0))\n",
    "\n",
    "# Calculate accuracy\n",
    "accuracy_df = sorted_df.agg({\"PredictionResult\": \"mean\"})\n",
    "accuracy = accuracy_df.collect()[0][0]\n",
    "\n",
    "print(f\"Prediction Accuracy: {accuracy:.2f}\")\n"
   ]
  }
 ],
 "metadata": {
  "application/vnd.databricks.v1+notebook": {
   "dashboards": [],
   "environmentMetadata": null,
   "language": "python",
   "notebookMetadata": {
    "mostRecentlyExecutedCommandWithImplicitDF": {
     "commandId": -1,
     "dataframes": [
      "_sqldf"
     ]
    },
    "pythonIndentUnit": 4
   },
   "notebookName": "DS320 Final Project",
   "widgets": {}
  }
 },
 "nbformat": 4,
 "nbformat_minor": 0
}
